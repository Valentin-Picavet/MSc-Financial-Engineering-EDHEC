{
 "cells": [
  {
   "cell_type": "markdown",
   "id": "c0743fca",
   "metadata": {},
   "source": [
    "# Section 0\n",
    "\n",
    "QPM : Assignment 1\n",
    "\n",
    "Group Members : PICAVET Valentin Student ID : 73161"
   ]
  },
  {
   "cell_type": "markdown",
   "id": "9f6358b9",
   "metadata": {},
   "source": [
    "# Section 1\n",
    "\n",
    "Use Python to generate random annual returns for 100 years for this\n",
    "asset. Compare the annual mean and volatility of returns from your\n",
    "random data to the true 10% mean and 20%."
   ]
  },
  {
   "cell_type": "code",
   "execution_count": 1,
   "id": "b17f4502",
   "metadata": {},
   "outputs": [
    {
     "name": "stdout",
     "output_type": "stream",
     "text": [
      "0.10542181469807196 0.2256480940955922\n"
     ]
    }
   ],
   "source": [
    "import numpy as np\n",
    "\n",
    "mean=0.1\n",
    "vol=0.2\n",
    "n_years=100\n",
    "\n",
    "np.random.seed(123) # Setting seed for reproducibility\n",
    "\n",
    "#Generate random annual returns for 100 years\n",
    "annual_returns=np.random.normal(mean,vol,n_years)\n",
    "\n",
    "# Calculate mean and volatility of generated annual returns\n",
    "generated_mean=np.mean(annual_returns)\n",
    "generated_vol=np.std(annual_returns)\n",
    "\n",
    "print(generated_mean,generated_vol)"
   ]
  },
  {
   "cell_type": "code",
   "execution_count": 2,
   "id": "0b22e4e9",
   "metadata": {},
   "outputs": [
    {
     "name": "stdout",
     "output_type": "stream",
     "text": [
      "5.142972271536051 11.366412908733357\n"
     ]
    }
   ],
   "source": [
    "mean=0.1\n",
    "vol=0.2\n",
    "\n",
    "mean_change=((generated_mean-mean)/generated_mean)*100\n",
    "vol_change=((generated_vol-vol)/generated_vol)*100\n",
    "\n",
    "print(mean_change,vol_change)"
   ]
  },
  {
   "cell_type": "markdown",
   "id": "a501e47f",
   "metadata": {},
   "source": [
    "The annual mean and volatility of returns from the data I generated are slightly above the true 10% mean and 20% volatility. Indeed, the mean is 5.1% higher than the true mean and the volatility is 11.4% above the true volatility."
   ]
  },
  {
   "cell_type": "markdown",
   "id": "4e0d9f1a",
   "metadata": {},
   "source": [
    "# Section 2\n",
    "\n",
    "Now, generate random monthly returns for 100 years for this risky\n",
    "asset. Compare the annual mean and volatility of returns from your\n",
    "random data to the true 10% mean and 20%"
   ]
  },
  {
   "cell_type": "code",
   "execution_count": 3,
   "id": "4116df88",
   "metadata": {},
   "outputs": [
    {
     "name": "stdout",
     "output_type": "stream",
     "text": [
      "0.07886108435472813 0.20358836159173124\n"
     ]
    }
   ],
   "source": [
    "import numpy as np\n",
    "\n",
    "monthly_mean = 0.10 / 12  \n",
    "monthly_vol = 0.20 / np.sqrt(12) \n",
    "n_years = 100\n",
    "months = n_years * 12\n",
    "\n",
    "np.random.seed(123)  # Setting seed for reproducibility\n",
    "\n",
    "#Generate random monthly returns for 100 years\n",
    "monthly_returns = np.random.normal(monthly_mean,monthly_vol, months)\n",
    "\n",
    "# Reshape the returns to calculate annual returns\n",
    "annual_returns= np.reshape(monthly_returns, (n_years, 12)).sum(axis=1)\n",
    "\n",
    "# Calculate mean and volatility of generated annual returns\n",
    "generated_monthly_mean=np.mean(annual_returns)\n",
    "generated_monthly_vol=np.std(annual_returns)\n",
    "\n",
    "print(generated_monthly_mean,generated_monthly_vol)"
   ]
  },
  {
   "cell_type": "code",
   "execution_count": 4,
   "id": "78a91e51",
   "metadata": {},
   "outputs": [
    {
     "name": "stdout",
     "output_type": "stream",
     "text": [
      "-26.805256126312045 1.7625573307216857\n"
     ]
    }
   ],
   "source": [
    "mean=0.1\n",
    "vol=0.2\n",
    "\n",
    "mean_change=((generated_monthly_mean-mean)/generated_monthly_mean)*100\n",
    "vol_change=((generated_monthly_vol-vol)/generated_monthly_vol)*100\n",
    "\n",
    "print(mean_change,vol_change)"
   ]
  },
  {
   "cell_type": "markdown",
   "id": "935fe4fd",
   "metadata": {},
   "source": [
    "The annual mean from the monthly data I generated is quite below the true 10% mean and the volatility is roughly the same as the true 20% volatility. Indeed, the mean is 26.8% lower than the true mean and the volatility is  1.8% above the true volatility."
   ]
  },
  {
   "cell_type": "markdown",
   "id": "ef0b8f24",
   "metadata": {},
   "source": [
    "# Section 3\n",
    "\n",
    "Finally, generate random daily returns for 100 years for this risky\n",
    "asset. Compare the annual mean and volatility of returns from your\n",
    "random data to the true 10% mean and 20%."
   ]
  },
  {
   "cell_type": "code",
   "execution_count": 5,
   "id": "e3d5593e",
   "metadata": {},
   "outputs": [
    {
     "name": "stdout",
     "output_type": "stream",
     "text": [
      "0.11629876037315955 0.23641355852852908\n"
     ]
    }
   ],
   "source": [
    "import numpy as np\n",
    "\n",
    "S0= 100\n",
    "daily_mean = 0.10 / 252  # I assume there are 252 trading business days in a year\n",
    "daily_vol = 0.20 / np.sqrt(252) \n",
    "n_years = 100\n",
    "days = n_years * 252\n",
    "\n",
    "np.random.seed(123)  # Setting seed for reproducibility\n",
    "\n",
    "#Generate random daily returns for 100 years\n",
    "daily_returns = np.random.normal(daily_mean,daily_vol,days)\n",
    "\n",
    "# Reshape the returns to calculate annual returns\n",
    "annual_returns= np.reshape(daily_returns, (n_years, 252)).sum(axis=1)\n",
    "\n",
    "# Calculate mean and volatility of generated annual returns\n",
    "generated_daily_mean=np.mean(annual_returns)\n",
    "generated_daily_vol=np.std(annual_returns)\n",
    "\n",
    "print(generated_daily_mean,generated_daily_vol)"
   ]
  },
  {
   "cell_type": "code",
   "execution_count": 6,
   "id": "3a2af4b8",
   "metadata": {},
   "outputs": [
    {
     "name": "stdout",
     "output_type": "stream",
     "text": [
      "14.014560706290307 15.402483155015359\n"
     ]
    }
   ],
   "source": [
    "mean=0.1\n",
    "vol=0.2\n",
    "\n",
    "mean_change=((generated_daily_mean-mean)/generated_daily_mean)*100\n",
    "vol_change=((generated_daily_vol-vol)/generated_daily_vol)*100\n",
    "\n",
    "print(mean_change,vol_change)"
   ]
  },
  {
   "cell_type": "markdown",
   "id": "ed98fecc",
   "metadata": {},
   "source": [
    "The annual mean from the daily data I generated is above the true 10% mean and the volatility is also abovethe true 20% volatility. Indeed, the mean is 14.0% higher than the true mean and the volatility is 15.4% above the true volatility."
   ]
  },
  {
   "cell_type": "markdown",
   "id": "f0dec6aa",
   "metadata": {},
   "source": [
    "# Section 4\n",
    "\n",
    "What do you conclude from the results of the three previous\n",
    "questions?"
   ]
  },
  {
   "cell_type": "markdown",
   "id": "0ea99ca3",
   "metadata": {},
   "source": [
    "From the previous results, I can conclude that the more random returns I generate, the more the estimated annual mean and volatility, from the returns, are far from the true mean and volatility. Indeed, the estimated annual mean and volatility estimated from the daily returns are further away from the true mean and volatility than the monthly and annual returns. "
   ]
  },
  {
   "cell_type": "code",
   "execution_count": null,
   "id": "7cabeb95",
   "metadata": {},
   "outputs": [],
   "source": []
  }
 ],
 "metadata": {
  "kernelspec": {
   "display_name": "Python 3 (ipykernel)",
   "language": "python",
   "name": "python3"
  },
  "language_info": {
   "codemirror_mode": {
    "name": "ipython",
    "version": 3
   },
   "file_extension": ".py",
   "mimetype": "text/x-python",
   "name": "python",
   "nbconvert_exporter": "python",
   "pygments_lexer": "ipython3",
   "version": "3.9.18"
  }
 },
 "nbformat": 4,
 "nbformat_minor": 5
}
